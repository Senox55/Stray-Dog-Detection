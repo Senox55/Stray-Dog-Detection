{
 "cells": [
  {
   "cell_type": "code",
   "execution_count": 28,
   "id": "9473016d-e142-45e6-9474-7bedf951ee25",
   "metadata": {
    "id": "9473016d-e142-45e6-9474-7bedf951ee25"
   },
   "outputs": [],
   "source": [
    "import random\n",
    "import torch\n",
    "import torch.nn as nn\n",
    "import torch.optim as optim\n",
    "import csv\n",
    "import matplotlib.pyplot as plt\n",
    "import torch.nn.functional as F\n",
    "import os\n",
    "from torchvision.datasets import ImageFolder\n",
    "from torchvision import transforms\n",
    "from torchvision import models, transforms\n",
    "from torch.utils.data import DataLoader, Dataset\n",
    "from IPython.display import clear_output\n",
    "from torch.utils.data import Dataset\n",
    "from PIL import Image\n",
    "from torch.utils.data import DataLoader, Dataset"
   ]
  },
  {
   "cell_type": "code",
   "execution_count": 29,
   "id": "1ecc9ef5-9137-4f0c-89ca-6def100c422c",
   "metadata": {
    "id": "1ecc9ef5-9137-4f0c-89ca-6def100c422c"
   },
   "outputs": [],
   "source": [
    "class TripletDataset(Dataset):\n",
    "    def __init__(self, image_folder, transform=None):\n",
    "        \"\"\"\n",
    "        :param image_folder: объект torchvision.datasets.ImageFolder\n",
    "        :param transform: преобразования для изображений\n",
    "        \"\"\"\n",
    "        self.image_folder = image_folder\n",
    "        self.transform = transform\n",
    "        self.class_to_indices = self._group_by_class()\n",
    "\n",
    "    def _group_by_class(self):\n",
    "        \"\"\"\n",
    "        Создает словарь, где ключ — класс, а значение — индексы изображений этого класса.\n",
    "        \"\"\"\n",
    "        class_to_indices = {}\n",
    "        for idx, (path, label) in enumerate(self.image_folder.samples):\n",
    "            if label not in class_to_indices:\n",
    "                class_to_indices[label] = []\n",
    "            class_to_indices[label].append(idx)\n",
    "        return class_to_indices\n",
    "\n",
    "    def __len__(self):\n",
    "        return len(self.image_folder)\n",
    "\n",
    "    def __getitem__(self, idx):\n",
    "        # Берем базовое изображение (Anchor)\n",
    "        anchor_path, anchor_label = self.image_folder.samples[idx]\n",
    "        anchor = Image.open(anchor_path).convert(\"RGB\")\n",
    "\n",
    "        # Позитивное изображение из того же класса\n",
    "        positive_idx = random.choice(self.class_to_indices[anchor_label])\n",
    "        positive_path, _ = self.image_folder.samples[positive_idx]\n",
    "        positive = Image.open(positive_path).convert(\"RGB\")\n",
    "\n",
    "        # Негативное изображение из другого класса\n",
    "        negative_labels = list(self.class_to_indices.keys())\n",
    "        negative_labels.remove(anchor_label)  # Убираем текущий класс\n",
    "        negative_label = random.choice(negative_labels)\n",
    "        negative_idx = random.choice(self.class_to_indices[negative_label])\n",
    "        negative_path, _ = self.image_folder.samples[negative_idx]\n",
    "        negative = Image.open(negative_path).convert(\"RGB\")\n",
    "\n",
    "        # Применяем трансформации, если они есть\n",
    "        if self.transform:\n",
    "            anchor = self.transform(anchor)\n",
    "            positive = self.transform(positive)\n",
    "            negative = self.transform(negative)\n",
    "\n",
    "        return anchor, positive, negative\n"
   ]
  },
  {
   "cell_type": "code",
   "execution_count": 30,
   "id": "prLmuIMq4BkT",
   "metadata": {
    "id": "prLmuIMq4BkT"
   },
   "outputs": [],
   "source": [
    "# from google.colab import drive\n",
    "# drive.mount('/content/drive')\n",
    "# !unzip '/content/drive/MyDrive/Archive.zip'"
   ]
  },
  {
   "cell_type": "code",
   "execution_count": 31,
   "id": "dd07d40d-ab09-408f-93bb-00efaadbf636",
   "metadata": {
    "id": "dd07d40d-ab09-408f-93bb-00efaadbf636"
   },
   "outputs": [],
   "source": [
    "transform = transforms.Compose([\n",
    "    transforms.Resize((224, 224)),\n",
    "    transforms.RandomHorizontalFlip(p=0.5),\n",
    "    transforms.RandomRotation(degrees=15),\n",
    "    transforms.ColorJitter(brightness=0.2, contrast=0.2, saturation=0.2, hue=0.1),\n",
    "    transforms.ToTensor(),\n",
    "    transforms.Normalize(mean=[0.485, 0.456, 0.406], std=[0.229, 0.224, 0.225]),\n",
    "])\n",
    "train_dataset = ImageFolder(root=\"dogs\")\n",
    "test_dataset = ImageFolder(root=\"test_200_database\")"
   ]
  },
  {
   "cell_type": "code",
   "execution_count": 32,
   "id": "4489109d-3687-41e6-80e2-3dd8dba14ed5",
   "metadata": {
    "id": "4489109d-3687-41e6-80e2-3dd8dba14ed5"
   },
   "outputs": [],
   "source": [
    "train_triplet_dataset = TripletDataset(image_folder=train_dataset, transform=transform)\n",
    "train_dataloader = DataLoader(train_triplet_dataset, batch_size=32, shuffle=True)\n",
    "\n",
    "test_triplet_dataset = TripletDataset(image_folder=test_dataset, transform=transform)\n",
    "test_dataloader = DataLoader(test_triplet_dataset, batch_size=32, shuffle=True)"
   ]
  },
  {
   "cell_type": "code",
   "execution_count": 33,
   "id": "d8d18295-ba76-4ea3-a435-edfb8a42faad",
   "metadata": {
    "colab": {
     "base_uri": "https://localhost:8080/"
    },
    "id": "d8d18295-ba76-4ea3-a435-edfb8a42faad",
    "outputId": "06b8816b-d13c-4953-8c11-efca22287b7b"
   },
   "outputs": [
    {
     "name": "stdout",
     "output_type": "stream",
     "text": [
      "0.weight False\n",
      "1.weight False\n",
      "1.bias False\n",
      "4.0.conv1.weight False\n",
      "4.0.bn1.weight False\n",
      "4.0.bn1.bias False\n",
      "4.0.conv2.weight False\n",
      "4.0.bn2.weight False\n",
      "4.0.bn2.bias False\n",
      "4.0.conv3.weight False\n",
      "4.0.bn3.weight False\n",
      "4.0.bn3.bias False\n",
      "4.0.downsample.0.weight False\n",
      "4.0.downsample.1.weight False\n",
      "4.0.downsample.1.bias False\n",
      "4.1.conv1.weight False\n",
      "4.1.bn1.weight False\n",
      "4.1.bn1.bias False\n",
      "4.1.conv2.weight False\n",
      "4.1.bn2.weight False\n",
      "4.1.bn2.bias False\n",
      "4.1.conv3.weight False\n",
      "4.1.bn3.weight False\n",
      "4.1.bn3.bias False\n",
      "4.2.conv1.weight False\n",
      "4.2.bn1.weight False\n",
      "4.2.bn1.bias False\n",
      "4.2.conv2.weight False\n",
      "4.2.bn2.weight False\n",
      "4.2.bn2.bias False\n",
      "4.2.conv3.weight False\n",
      "4.2.bn3.weight False\n",
      "4.2.bn3.bias False\n",
      "5.0.conv1.weight False\n",
      "5.0.bn1.weight False\n",
      "5.0.bn1.bias False\n",
      "5.0.conv2.weight False\n",
      "5.0.bn2.weight False\n",
      "5.0.bn2.bias False\n",
      "5.0.conv3.weight False\n",
      "5.0.bn3.weight False\n",
      "5.0.bn3.bias False\n",
      "5.0.downsample.0.weight False\n",
      "5.0.downsample.1.weight False\n",
      "5.0.downsample.1.bias False\n",
      "5.1.conv1.weight False\n",
      "5.1.bn1.weight False\n",
      "5.1.bn1.bias False\n",
      "5.1.conv2.weight False\n",
      "5.1.bn2.weight False\n",
      "5.1.bn2.bias False\n",
      "5.1.conv3.weight False\n",
      "5.1.bn3.weight False\n",
      "5.1.bn3.bias False\n",
      "5.2.conv1.weight False\n",
      "5.2.bn1.weight False\n",
      "5.2.bn1.bias False\n",
      "5.2.conv2.weight False\n",
      "5.2.bn2.weight False\n",
      "5.2.bn2.bias False\n",
      "5.2.conv3.weight False\n",
      "5.2.bn3.weight False\n",
      "5.2.bn3.bias False\n",
      "5.3.conv1.weight False\n",
      "5.3.bn1.weight False\n",
      "5.3.bn1.bias False\n",
      "5.3.conv2.weight False\n",
      "5.3.bn2.weight False\n",
      "5.3.bn2.bias False\n",
      "5.3.conv3.weight False\n",
      "5.3.bn3.weight False\n",
      "5.3.bn3.bias False\n",
      "6.0.conv1.weight False\n",
      "6.0.bn1.weight False\n",
      "6.0.bn1.bias False\n",
      "6.0.conv2.weight False\n",
      "6.0.bn2.weight False\n",
      "6.0.bn2.bias False\n",
      "6.0.conv3.weight False\n",
      "6.0.bn3.weight False\n",
      "6.0.bn3.bias False\n",
      "6.0.downsample.0.weight False\n",
      "6.0.downsample.1.weight False\n",
      "6.0.downsample.1.bias False\n",
      "6.1.conv1.weight False\n",
      "6.1.bn1.weight False\n",
      "6.1.bn1.bias False\n",
      "6.1.conv2.weight False\n",
      "6.1.bn2.weight False\n",
      "6.1.bn2.bias False\n",
      "6.1.conv3.weight False\n",
      "6.1.bn3.weight False\n",
      "6.1.bn3.bias False\n",
      "6.2.conv1.weight False\n",
      "6.2.bn1.weight False\n",
      "6.2.bn1.bias False\n",
      "6.2.conv2.weight False\n",
      "6.2.bn2.weight False\n",
      "6.2.bn2.bias False\n",
      "6.2.conv3.weight False\n",
      "6.2.bn3.weight False\n",
      "6.2.bn3.bias False\n",
      "6.3.conv1.weight False\n",
      "6.3.bn1.weight False\n",
      "6.3.bn1.bias False\n",
      "6.3.conv2.weight False\n",
      "6.3.bn2.weight False\n",
      "6.3.bn2.bias False\n",
      "6.3.conv3.weight False\n",
      "6.3.bn3.weight False\n",
      "6.3.bn3.bias False\n",
      "6.4.conv1.weight False\n",
      "6.4.bn1.weight False\n",
      "6.4.bn1.bias False\n",
      "6.4.conv2.weight False\n",
      "6.4.bn2.weight False\n",
      "6.4.bn2.bias False\n",
      "6.4.conv3.weight False\n",
      "6.4.bn3.weight False\n",
      "6.4.bn3.bias False\n",
      "6.5.conv1.weight False\n",
      "6.5.bn1.weight False\n",
      "6.5.bn1.bias False\n",
      "6.5.conv2.weight False\n",
      "6.5.bn2.weight False\n",
      "6.5.bn2.bias False\n",
      "6.5.conv3.weight False\n",
      "6.5.bn3.weight False\n",
      "6.5.bn3.bias False\n",
      "7.0.conv1.weight True\n",
      "7.0.bn1.weight True\n",
      "7.0.bn1.bias True\n",
      "7.0.conv2.weight True\n",
      "7.0.bn2.weight True\n",
      "7.0.bn2.bias True\n",
      "7.0.conv3.weight True\n",
      "7.0.bn3.weight True\n",
      "7.0.bn3.bias True\n",
      "7.0.downsample.0.weight True\n",
      "7.0.downsample.1.weight True\n",
      "7.0.downsample.1.bias True\n",
      "7.1.conv1.weight True\n",
      "7.1.bn1.weight True\n",
      "7.1.bn1.bias True\n",
      "7.1.conv2.weight True\n",
      "7.1.bn2.weight True\n",
      "7.1.bn2.bias True\n",
      "7.1.conv3.weight True\n",
      "7.1.bn3.weight True\n",
      "7.1.bn3.bias True\n",
      "7.2.conv1.weight True\n",
      "7.2.bn1.weight True\n",
      "7.2.bn1.bias True\n",
      "7.2.conv2.weight True\n",
      "7.2.bn2.weight True\n",
      "7.2.bn2.bias True\n",
      "7.2.conv3.weight True\n",
      "7.2.bn3.weight True\n",
      "7.2.bn3.bias True\n"
     ]
    }
   ],
   "source": [
    "model = models.resnet50(weights='IMAGENET1K_V1')\n",
    "model = torch.nn.Sequential(*list(model.children())[:-1])\n",
    "\n",
    "for param in model.parameters():\n",
    "    param.requires_grad = False\n",
    "\n",
    "# Разморозим только последний блок ResNet — `layer4`\n",
    "for layer in list(model.children())[7:]:\n",
    "    for param in layer.parameters():\n",
    "        param.requires_grad = True\n",
    "\n",
    "for name, param in model.named_parameters():\n",
    "    print(name, param.requires_grad)"
   ]
  },
  {
   "cell_type": "code",
   "execution_count": 34,
   "id": "93d12598-6152-4836-a962-f7ef2f78d880",
   "metadata": {
    "id": "93d12598-6152-4836-a962-f7ef2f78d880"
   },
   "outputs": [],
   "source": [
    "class AverageMeters(object):\n",
    "    def __init__(self):\n",
    "        self.reset()\n",
    "\n",
    "    def reset(self):\n",
    "        self.avg = 0\n",
    "        self.cnt = 0\n",
    "        self.sum = 0\n",
    "        self.val = 0\n",
    "\n",
    "    def update(self, val, n=1):\n",
    "        self.val = val\n",
    "        self.sum += val * n\n",
    "        self.cnt += n\n",
    "        self.avg = self.sum / self.cnt"
   ]
  },
  {
   "cell_type": "code",
   "execution_count": 35,
   "id": "e787a9b7-c00a-4cc4-8743-5f18239e67ae",
   "metadata": {
    "id": "e787a9b7-c00a-4cc4-8743-5f18239e67ae"
   },
   "outputs": [],
   "source": [
    "def accuracy(anchor_embed, positive_embed, negative_embed):\n",
    "    with torch.no_grad():\n",
    "        d_ap = F.pairwise_distance(anchor_embed, positive_embed)  # Anchor-Positive\n",
    "        d_an = F.pairwise_distance(anchor_embed, negative_embed)  # Anchor-Negative\n",
    "        correct = (d_ap < d_an).sum().item()\n",
    "        accuracy = correct / anchor_embed.size(0) * 100  # процент точных предсказаний\n",
    "    return accuracy"
   ]
  },
  {
   "cell_type": "code",
   "execution_count": 36,
   "id": "a9f5abcf-3ecb-4326-a09e-ad971d57213c",
   "metadata": {
    "colab": {
     "base_uri": "https://localhost:8080/"
    },
    "id": "a9f5abcf-3ecb-4326-a09e-ad971d57213c",
    "outputId": "f7836b31-c2f3-4aae-c2ce-e88b140ca787"
   },
   "outputs": [
    {
     "name": "stdout",
     "output_type": "stream",
     "text": [
      "cuda\n"
     ]
    }
   ],
   "source": [
    "device = torch.device(\"cuda\" if torch.cuda.is_available() else \"cpu\")\n",
    "print(device)\n",
    "model.to(device)\n",
    "plt.show()"
   ]
  },
  {
   "cell_type": "code",
   "execution_count": 37,
   "id": "d59bf753-34d4-4ce7-83e5-d6f999a732cf",
   "metadata": {
    "id": "d59bf753-34d4-4ce7-83e5-d6f999a732cf"
   },
   "outputs": [],
   "source": [
    "def train_loop(dataloader, model, criterion, optimizer):\n",
    "    losses = AverageMeters()\n",
    "    accs = AverageMeters()\n",
    "\n",
    "    # switch to train mode\n",
    "    model.train()\n",
    "\n",
    "    for _, (anchor, positive, negative) in enumerate(dataloader):\n",
    "        anchor = anchor.to(device)\n",
    "        positive = positive.to(device)\n",
    "        negative = negative.to(device)\n",
    "\n",
    "        # compute output\n",
    "        anchor_embed = model(anchor).view(anchor.size(0), -1)\n",
    "        positive_embed = model(positive).view(positive.size(0), -1)\n",
    "        negative_embed = model(negative).view(negative.size(0), -1)\n",
    "\n",
    "        loss = criterion(anchor_embed, positive_embed, negative_embed)\n",
    "\n",
    "        # measure accurasy\n",
    "        acc = accuracy(anchor_embed, positive_embed, negative_embed)\n",
    "\n",
    "        # record loss and accurasy\n",
    "        losses.update(loss.item(), anchor_embed.size(0))\n",
    "        accs.update(acc, anchor_embed.size(0))\n",
    "\n",
    "        # compute gradient and do Adam step\n",
    "        optimizer.zero_grad()\n",
    "        loss.backward()\n",
    "        optimizer.step()\n",
    "\n",
    "    return accs.avg, losses.avg"
   ]
  },
  {
   "cell_type": "code",
   "execution_count": 38,
   "id": "9c03cd0f-40a2-4851-9a1f-1a2747410190",
   "metadata": {
    "id": "9c03cd0f-40a2-4851-9a1f-1a2747410190"
   },
   "outputs": [],
   "source": [
    "def test_loop(dataloader, model, criterion):\n",
    "    losses = AverageMeters()\n",
    "    accs = AverageMeters()\n",
    "\n",
    "    # switch to val mode\n",
    "    model.eval()\n",
    "\n",
    "    for _, (anchor, positive, negative) in enumerate(dataloader):\n",
    "        anchor = anchor.to(device)\n",
    "        positive = positive.to(device)\n",
    "        negative = negative.to(device)\n",
    "\n",
    "        # compute output\n",
    "        anchor_embed = model(anchor).view(anchor.size(0), -1)\n",
    "        positive_embed = model(positive).view(positive.size(0), -1)\n",
    "        negative_embed = model(negative).view(negative.size(0), -1)\n",
    "\n",
    "        loss = criterion(anchor_embed, positive_embed, negative_embed)\n",
    "\n",
    "        # measure accurasy\n",
    "        acc = accuracy(anchor_embed, positive_embed, negative_embed)\n",
    "        \n",
    "        # record loss and accurasy\n",
    "        losses.update(loss.item(), anchor_embed.size(0))\n",
    "        accs.update(acc, anchor_embed.size(0))\n",
    "\n",
    "    return accs.avg, losses.avg"
   ]
  },
  {
   "cell_type": "code",
   "execution_count": 39,
   "id": "fd818cc4-0e7b-46a0-a24a-31b712b21cbc",
   "metadata": {
    "id": "fd818cc4-0e7b-46a0-a24a-31b712b21cbc"
   },
   "outputs": [],
   "source": [
    "def save_checkpoint(save_path, state, epoch, tag=''):\n",
    "    if not os.path.exists(save_path):\n",
    "        os.makedirs(save_path)\n",
    "    filename = os.path.join(save_path, \"{}checkpoint-{:06}.pth.tar\".format(tag, epoch))\n",
    "    torch.save(state, filename)"
   ]
  },
  {
   "cell_type": "code",
   "execution_count": 40,
   "id": "31c009f4-a3a2-40e8-87b3-9adb73f46c58",
   "metadata": {
    "id": "31c009f4-a3a2-40e8-87b3-9adb73f46c58"
   },
   "outputs": [],
   "source": [
    "config = {\n",
    "    \"batch_size\": 32,\n",
    "    \"learning_rate\": 1e-6,\n",
    "    \"total_epochs\": 40,\n",
    "    \"save_epoch\": 5,\n",
    "    \"save_path\": \"./weights\"\n",
    "}"
   ]
  },
  {
   "cell_type": "code",
   "execution_count": 41,
   "id": "57d6dda1-8345-45b3-8651-73aa02583658",
   "metadata": {
    "id": "57d6dda1-8345-45b3-8651-73aa02583658"
   },
   "outputs": [],
   "source": [
    "random_seed = 42"
   ]
  },
  {
   "cell_type": "code",
   "execution_count": 42,
   "id": "ac0c009d-50b0-43f0-b446-98e4fdf5a489",
   "metadata": {
    "id": "ac0c009d-50b0-43f0-b446-98e4fdf5a489"
   },
   "outputs": [],
   "source": [
    "criterion = nn.TripletMarginLoss(margin=1, p=2)\n",
    "optimizer = optim.Adam(model.parameters(), lr=config[\"learning_rate\"], weight_decay=1e-4)\n",
    "scheduler = torch.optim.lr_scheduler.ReduceLROnPlateau(optimizer, mode='min', factor=0.5, patience=2)"
   ]
  },
  {
   "cell_type": "code",
   "execution_count": null,
   "id": "fb25c0fd-b4da-46a5-8d52-d1dd73e3ea3f",
   "metadata": {
    "colab": {
     "base_uri": "https://localhost:8080/",
     "height": 489
    },
    "id": "fb25c0fd-b4da-46a5-8d52-d1dd73e3ea3f",
    "outputId": "3e88bb3a-acb9-4722-dd9f-e1c0e98284bc"
   },
   "outputs": [
    {
     "data": {
      "image/png": "[encoded data removed]",
      "text/plain": [
       "<Figure size 640x480 with 1 Axes>"
      ]
     },
     "metadata": {},
     "output_type": "display_data"
    },
    {
     "name": "stdout",
     "output_type": "stream",
     "text": [
      "[9/40]\t\t LR: Train acc: 94.6\t Train loss: 0.136\t Test acc: 96.9\t Test loss: 0.084\n",
      "Current LR: 1e-06\n"
     ]
    }
   ],
   "source": [
    "print(\"Start train\")\n",
    "log = {\"epoch\": [], \"train_acc\": [], \"train_loss\": [], \"test_acc\": [], \"test_loss\": []}\n",
    "\n",
    "for epoch in range(config[\"total_epochs\"]):\n",
    "    train_acc, train_loss = train_loop(train_dataloader, model, criterion, optimizer)\n",
    "    test_acc, test_loss = test_loop(test_dataloader, model, criterion)\n",
    "    scheduler.step(test_loss)\n",
    "\n",
    "    if epoch % config[\"save_epoch\"] == 0:\n",
    "        state = {\n",
    "            \"epoch\": epoch,\n",
    "            \"state_dict\": model.state_dict(),\n",
    "            \"loss\": test_loss,\n",
    "            \"acc\": test_acc,\n",
    "            \"optimizer\": optimizer.state_dict(),\n",
    "            \"criterion\": criterion.state_dict(),\n",
    "        }\n",
    "        save_checkpoint(config[\"save_path\"], state, epoch, '')\n",
    "\n",
    "\n",
    "    log[\"epoch\"].append(epoch)\n",
    "    log[\"train_loss\"].append(train_loss)\n",
    "    log[\"test_loss\"].append(test_loss)\n",
    "\n",
    "    clear_output(wait=True)\n",
    "\n",
    "    plt.plot(log[\"epoch\"], log[\"train_loss\"], label=\"train\")\n",
    "    plt.plot(log[\"epoch\"], log[\"test_loss\"], label=\"test\")\n",
    "    plt.legend()\n",
    "    plt.xlabel(\"epoch\")\n",
    "    plt.ylabel(\"loss\")\n",
    "    plt.title(\"Loss\")\n",
    "    plt.show()\n",
    "\n",
    "    line = \"[{}/{}]\\t\\t LR: Train acc: {:.3}\\t Train loss: {:.3}\\t Test acc: {:.3}\\t Test loss: {:.3}\".format(\n",
    "        epoch,\n",
    "        config[\"total_epochs\"],\n",
    "        train_acc,\n",
    "        train_loss,\n",
    "        test_acc,\n",
    "        test_loss\n",
    "    )\n",
    "\n",
    "    print(line)\n",
    "    current_lr = optimizer.param_groups[0]['lr']\n",
    "    print(f\"Current LR: {current_lr}\")\n",
    "\n",
    "print(\"Stop train\")\n"
   ]
  },
  {
   "cell_type": "code",
   "execution_count": null,
   "id": "1ab5fc0b-beab-4575-a6ea-2270e53b770c",
   "metadata": {
    "id": "1ab5fc0b-beab-4575-a6ea-2270e53b770c"
   },
   "outputs": [],
   "source": []
  },
  {
   "cell_type": "code",
   "execution_count": null,
   "id": "1f240614-1f4e-47c4-9c51-57748b25f838",
   "metadata": {
    "id": "1f240614-1f4e-47c4-9c51-57748b25f838"
   },
   "outputs": [],
   "source": []
  },
  {
   "cell_type": "code",
   "execution_count": null,
   "id": "d873314e-d49d-4c7b-95c4-ec3ad1fd403e",
   "metadata": {},
   "outputs": [],
   "source": []
  }
 ],
 "metadata": {
  "accelerator": "GPU",
  "colab": {
   "gpuType": "T4",
   "provenance": []
  },
  "kernelspec": {
   "display_name": "Python 3 (ipykernel)",
   "language": "python",
   "name": "python3"
  },
  "language_info": {
   "codemirror_mode": {
    "name": "ipython",
    "version": 3
   },
   "file_extension": ".py",
   "mimetype": "text/x-python",
   "name": "python",
   "nbconvert_exporter": "python",
   "pygments_lexer": "ipython3",
   "version": "3.10.14"
  }
 },
 "nbformat": 4,
 "nbformat_minor": 5
}
