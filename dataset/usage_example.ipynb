{
 "cells": [
  {
   "cell_type": "code",
   "execution_count": 1,
   "id": "08e7081c",
   "metadata": {},
   "outputs": [
    {
     "data": {
      "text/plain": [
       "True"
      ]
     },
     "execution_count": 1,
     "metadata": {},
     "output_type": "execute_result"
    }
   ],
   "source": [
    "import os\n",
    "from dotenv import load_dotenv\n",
    "load_dotenv()"
   ]
  },
  {
   "cell_type": "code",
   "execution_count": 2,
   "id": "e44f9d58",
   "metadata": {},
   "outputs": [],
   "source": [
    "# from psycopg2_utils import PostgresConnection\n",
    "\n",
    "from SQLALchemy_utils import PostgresConnection\n",
    "\n",
    "# На данный момент функциональность одинакова"
   ]
  },
  {
   "cell_type": "code",
   "execution_count": 3,
   "id": "57e1b1ee",
   "metadata": {},
   "outputs": [],
   "source": [
    "\n",
    "\n",
    "conn = PostgresConnection(user=os.getenv(\"DB_USER\"), password=os.getenv(\"DB_PASSWD\"))"
   ]
  },
  {
   "cell_type": "code",
   "execution_count": 8,
   "id": "9ef1582d",
   "metadata": {},
   "outputs": [],
   "source": [
    "from detection_results_tables import Base\n",
    "\n",
    "conn.create_tables(Base)"
   ]
  },
  {
   "cell_type": "code",
   "execution_count": 11,
   "id": "4fb9ea6a",
   "metadata": {},
   "outputs": [],
   "source": [
    "# Заполнить данными таблицу(все данные только строками)\n",
    "conn.insert_data_to_table(table_name=\"image\", columns=[\"path\"], data=[[\"asdf\"], [\"asdas\"], [\"asdeq\"], [\"efds\"]])\n",
    "conn.insert_data_to_table(table_name=\"image\", data=[[\"9\", \"asdf\"], [\"7\", \"asdas\"]])"
   ]
  },
  {
   "cell_type": "code",
   "execution_count": 7,
   "id": "8b331af2",
   "metadata": {},
   "outputs": [
    {
     "data": {
      "text/plain": [
       "['id', 'path']"
      ]
     },
     "execution_count": 7,
     "metadata": {},
     "output_type": "execute_result"
    }
   ],
   "source": [
    "# Получить список колонок\n",
    "conn.get_columns_list(\"image\")"
   ]
  },
  {
   "cell_type": "code",
   "execution_count": 4,
   "id": "47184a4c",
   "metadata": {},
   "outputs": [
    {
     "name": "stdout",
     "output_type": "stream",
     "text": [
      "[(1, 'asdf'), (2, 'asdas'), (3, 'asdeq'), (4, 'efds'), (9, 'asdf'), (7, 'asdas')]\n"
     ]
    },
    {
     "data": {
      "text/plain": [
       "[(1, 'asdf'),\n",
       " (2, 'asdas'),\n",
       " (3, 'asdeq'),\n",
       " (4, 'efds'),\n",
       " (9, 'asdf'),\n",
       " (7, 'asdas')]"
      ]
     },
     "execution_count": 4,
     "metadata": {},
     "output_type": "execute_result"
    }
   ],
   "source": [
    "# Получить данные из таблицы (порядок колонок влияет)\n",
    "print(conn.get_data_from_table(table_name=\"image\", columns=[\"path\", \"id\"]))\n",
    "conn.get_data_from_table(table_name=\"image\")"
   ]
  },
  {
   "cell_type": "code",
   "execution_count": 9,
   "id": "a3334a03",
   "metadata": {},
   "outputs": [
    {
     "data": {
      "text/plain": [
       "['video', 'frame', 'label']"
      ]
     },
     "execution_count": 9,
     "metadata": {},
     "output_type": "execute_result"
    }
   ],
   "source": [
    "# Вывести список таблиц\n",
    "conn.get_tables_list()"
   ]
  },
  {
   "cell_type": "code",
   "execution_count": 7,
   "id": "2fb001cc",
   "metadata": {},
   "outputs": [],
   "source": [
    "# Удалить таблицы\n",
    "conn.delete_tables(table_names=[\"label\", \"image\"])"
   ]
  }
 ],
 "metadata": {
  "kernelspec": {
   "display_name": "Python 3",
   "language": "python",
   "name": "python3"
  },
  "language_info": {
   "codemirror_mode": {
    "name": "ipython",
    "version": 3
   },
   "file_extension": ".py",
   "mimetype": "text/x-python",
   "name": "python",
   "nbconvert_exporter": "python",
   "pygments_lexer": "ipython3",
   "version": "3.12.1"
  }
 },
 "nbformat": 4,
 "nbformat_minor": 5
}
